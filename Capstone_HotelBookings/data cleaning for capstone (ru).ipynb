{
 "cells": [
  {
   "cell_type": "markdown",
   "id": "e4b58aa5-bdfd-42f5-9eeb-2764349af37c",
   "metadata": {},
   "source": [
    "## 1. инпуты"
   ]
  },
  {
   "cell_type": "code",
   "execution_count": 2,
   "id": "e797abc4-3da4-4c15-b05f-c96f2ff157c2",
   "metadata": {},
   "outputs": [],
   "source": [
    "import pandas as pd\n",
    "import numpy as np\n",
    "import matplotlib.pyplot as plt\n",
    "import seaborn as sns\n",
    "\n",
    "from datetime import datetime\n",
    "from sqlalchemy import create_engine, text\n",
    "from sqlalchemy.exc import IntegrityError"
   ]
  },
  {
   "cell_type": "markdown",
   "id": "00624aaf-1e76-4ff0-997b-4b0a4be8a266",
   "metadata": {},
   "source": [
    "## 2. ознакомление"
   ]
  },
  {
   "cell_type": "code",
   "execution_count": 4,
   "id": "fa181b36-268a-404c-b8c7-29f8a858182f",
   "metadata": {},
   "outputs": [],
   "source": [
    "df = pd.read_csv('hotel_bookings.csv')"
   ]
  },
  {
   "cell_type": "code",
   "execution_count": 6,
   "id": "fce27117-b1d3-4643-b86f-e902e54ba88e",
   "metadata": {},
   "outputs": [
    {
     "name": "stdout",
     "output_type": "stream",
     "text": [
      "<class 'pandas.core.frame.DataFrame'>\n",
      "RangeIndex: 119390 entries, 0 to 119389\n",
      "Data columns (total 32 columns):\n",
      " #   Column                          Non-Null Count   Dtype  \n",
      "---  ------                          --------------   -----  \n",
      " 0   hotel                           119390 non-null  object \n",
      " 1   is_canceled                     119390 non-null  int64  \n",
      " 2   lead_time                       119390 non-null  int64  \n",
      " 3   arrival_date_year               119390 non-null  int64  \n",
      " 4   arrival_date_month              119390 non-null  object \n",
      " 5   arrival_date_week_number        119390 non-null  int64  \n",
      " 6   arrival_date_day_of_month       119390 non-null  int64  \n",
      " 7   stays_in_weekend_nights         119390 non-null  int64  \n",
      " 8   stays_in_week_nights            119390 non-null  int64  \n",
      " 9   adults                          119390 non-null  int64  \n",
      " 10  children                        119386 non-null  float64\n",
      " 11  babies                          119390 non-null  int64  \n",
      " 12  meal                            119390 non-null  object \n",
      " 13  country                         118902 non-null  object \n",
      " 14  market_segment                  119390 non-null  object \n",
      " 15  distribution_channel            119390 non-null  object \n",
      " 16  is_repeated_guest               119390 non-null  int64  \n",
      " 17  previous_cancellations          119390 non-null  int64  \n",
      " 18  previous_bookings_not_canceled  119390 non-null  int64  \n",
      " 19  reserved_room_type              119390 non-null  object \n",
      " 20  assigned_room_type              119390 non-null  object \n",
      " 21  booking_changes                 119390 non-null  int64  \n",
      " 22  deposit_type                    119390 non-null  object \n",
      " 23  agent                           103050 non-null  float64\n",
      " 24  company                         6797 non-null    float64\n",
      " 25  days_in_waiting_list            119390 non-null  int64  \n",
      " 26  customer_type                   119390 non-null  object \n",
      " 27  adr                             119390 non-null  float64\n",
      " 28  required_car_parking_spaces     119390 non-null  int64  \n",
      " 29  total_of_special_requests       119390 non-null  int64  \n",
      " 30  reservation_status              119390 non-null  object \n",
      " 31  reservation_status_date         119390 non-null  object \n",
      "dtypes: float64(4), int64(16), object(12)\n",
      "memory usage: 29.1+ MB\n"
     ]
    }
   ],
   "source": [
    "df.info()"
   ]
  },
  {
   "cell_type": "code",
   "execution_count": 8,
   "id": "0ee247b5-ec88-4af8-a09f-c4ed8b89bd0f",
   "metadata": {},
   "outputs": [
    {
     "data": {
      "text/html": [
       "<div>\n",
       "<style scoped>\n",
       "    .dataframe tbody tr th:only-of-type {\n",
       "        vertical-align: middle;\n",
       "    }\n",
       "\n",
       "    .dataframe tbody tr th {\n",
       "        vertical-align: top;\n",
       "    }\n",
       "\n",
       "    .dataframe thead th {\n",
       "        text-align: right;\n",
       "    }\n",
       "</style>\n",
       "<table border=\"1\" class=\"dataframe\">\n",
       "  <thead>\n",
       "    <tr style=\"text-align: right;\">\n",
       "      <th></th>\n",
       "      <th>hotel</th>\n",
       "      <th>is_canceled</th>\n",
       "      <th>lead_time</th>\n",
       "      <th>arrival_date_year</th>\n",
       "      <th>arrival_date_month</th>\n",
       "      <th>arrival_date_week_number</th>\n",
       "      <th>arrival_date_day_of_month</th>\n",
       "      <th>stays_in_weekend_nights</th>\n",
       "      <th>stays_in_week_nights</th>\n",
       "      <th>adults</th>\n",
       "      <th>...</th>\n",
       "      <th>deposit_type</th>\n",
       "      <th>agent</th>\n",
       "      <th>company</th>\n",
       "      <th>days_in_waiting_list</th>\n",
       "      <th>customer_type</th>\n",
       "      <th>adr</th>\n",
       "      <th>required_car_parking_spaces</th>\n",
       "      <th>total_of_special_requests</th>\n",
       "      <th>reservation_status</th>\n",
       "      <th>reservation_status_date</th>\n",
       "    </tr>\n",
       "  </thead>\n",
       "  <tbody>\n",
       "    <tr>\n",
       "      <th>0</th>\n",
       "      <td>Resort Hotel</td>\n",
       "      <td>0</td>\n",
       "      <td>342</td>\n",
       "      <td>2015</td>\n",
       "      <td>July</td>\n",
       "      <td>27</td>\n",
       "      <td>1</td>\n",
       "      <td>0</td>\n",
       "      <td>0</td>\n",
       "      <td>2</td>\n",
       "      <td>...</td>\n",
       "      <td>No Deposit</td>\n",
       "      <td>NaN</td>\n",
       "      <td>NaN</td>\n",
       "      <td>0</td>\n",
       "      <td>Transient</td>\n",
       "      <td>0.0</td>\n",
       "      <td>0</td>\n",
       "      <td>0</td>\n",
       "      <td>Check-Out</td>\n",
       "      <td>2015-07-01</td>\n",
       "    </tr>\n",
       "    <tr>\n",
       "      <th>1</th>\n",
       "      <td>Resort Hotel</td>\n",
       "      <td>0</td>\n",
       "      <td>737</td>\n",
       "      <td>2015</td>\n",
       "      <td>July</td>\n",
       "      <td>27</td>\n",
       "      <td>1</td>\n",
       "      <td>0</td>\n",
       "      <td>0</td>\n",
       "      <td>2</td>\n",
       "      <td>...</td>\n",
       "      <td>No Deposit</td>\n",
       "      <td>NaN</td>\n",
       "      <td>NaN</td>\n",
       "      <td>0</td>\n",
       "      <td>Transient</td>\n",
       "      <td>0.0</td>\n",
       "      <td>0</td>\n",
       "      <td>0</td>\n",
       "      <td>Check-Out</td>\n",
       "      <td>2015-07-01</td>\n",
       "    </tr>\n",
       "    <tr>\n",
       "      <th>2</th>\n",
       "      <td>Resort Hotel</td>\n",
       "      <td>0</td>\n",
       "      <td>7</td>\n",
       "      <td>2015</td>\n",
       "      <td>July</td>\n",
       "      <td>27</td>\n",
       "      <td>1</td>\n",
       "      <td>0</td>\n",
       "      <td>1</td>\n",
       "      <td>1</td>\n",
       "      <td>...</td>\n",
       "      <td>No Deposit</td>\n",
       "      <td>NaN</td>\n",
       "      <td>NaN</td>\n",
       "      <td>0</td>\n",
       "      <td>Transient</td>\n",
       "      <td>75.0</td>\n",
       "      <td>0</td>\n",
       "      <td>0</td>\n",
       "      <td>Check-Out</td>\n",
       "      <td>2015-07-02</td>\n",
       "    </tr>\n",
       "    <tr>\n",
       "      <th>3</th>\n",
       "      <td>Resort Hotel</td>\n",
       "      <td>0</td>\n",
       "      <td>13</td>\n",
       "      <td>2015</td>\n",
       "      <td>July</td>\n",
       "      <td>27</td>\n",
       "      <td>1</td>\n",
       "      <td>0</td>\n",
       "      <td>1</td>\n",
       "      <td>1</td>\n",
       "      <td>...</td>\n",
       "      <td>No Deposit</td>\n",
       "      <td>304.0</td>\n",
       "      <td>NaN</td>\n",
       "      <td>0</td>\n",
       "      <td>Transient</td>\n",
       "      <td>75.0</td>\n",
       "      <td>0</td>\n",
       "      <td>0</td>\n",
       "      <td>Check-Out</td>\n",
       "      <td>2015-07-02</td>\n",
       "    </tr>\n",
       "    <tr>\n",
       "      <th>4</th>\n",
       "      <td>Resort Hotel</td>\n",
       "      <td>0</td>\n",
       "      <td>14</td>\n",
       "      <td>2015</td>\n",
       "      <td>July</td>\n",
       "      <td>27</td>\n",
       "      <td>1</td>\n",
       "      <td>0</td>\n",
       "      <td>2</td>\n",
       "      <td>2</td>\n",
       "      <td>...</td>\n",
       "      <td>No Deposit</td>\n",
       "      <td>240.0</td>\n",
       "      <td>NaN</td>\n",
       "      <td>0</td>\n",
       "      <td>Transient</td>\n",
       "      <td>98.0</td>\n",
       "      <td>0</td>\n",
       "      <td>1</td>\n",
       "      <td>Check-Out</td>\n",
       "      <td>2015-07-03</td>\n",
       "    </tr>\n",
       "  </tbody>\n",
       "</table>\n",
       "<p>5 rows × 32 columns</p>\n",
       "</div>"
      ],
      "text/plain": [
       "          hotel  is_canceled  lead_time  arrival_date_year arrival_date_month  \\\n",
       "0  Resort Hotel            0        342               2015               July   \n",
       "1  Resort Hotel            0        737               2015               July   \n",
       "2  Resort Hotel            0          7               2015               July   \n",
       "3  Resort Hotel            0         13               2015               July   \n",
       "4  Resort Hotel            0         14               2015               July   \n",
       "\n",
       "   arrival_date_week_number  arrival_date_day_of_month  \\\n",
       "0                        27                          1   \n",
       "1                        27                          1   \n",
       "2                        27                          1   \n",
       "3                        27                          1   \n",
       "4                        27                          1   \n",
       "\n",
       "   stays_in_weekend_nights  stays_in_week_nights  adults  ...  deposit_type  \\\n",
       "0                        0                     0       2  ...    No Deposit   \n",
       "1                        0                     0       2  ...    No Deposit   \n",
       "2                        0                     1       1  ...    No Deposit   \n",
       "3                        0                     1       1  ...    No Deposit   \n",
       "4                        0                     2       2  ...    No Deposit   \n",
       "\n",
       "   agent company days_in_waiting_list customer_type   adr  \\\n",
       "0    NaN     NaN                    0     Transient   0.0   \n",
       "1    NaN     NaN                    0     Transient   0.0   \n",
       "2    NaN     NaN                    0     Transient  75.0   \n",
       "3  304.0     NaN                    0     Transient  75.0   \n",
       "4  240.0     NaN                    0     Transient  98.0   \n",
       "\n",
       "   required_car_parking_spaces  total_of_special_requests  reservation_status  \\\n",
       "0                            0                          0           Check-Out   \n",
       "1                            0                          0           Check-Out   \n",
       "2                            0                          0           Check-Out   \n",
       "3                            0                          0           Check-Out   \n",
       "4                            0                          1           Check-Out   \n",
       "\n",
       "  reservation_status_date  \n",
       "0              2015-07-01  \n",
       "1              2015-07-01  \n",
       "2              2015-07-02  \n",
       "3              2015-07-02  \n",
       "4              2015-07-03  \n",
       "\n",
       "[5 rows x 32 columns]"
      ]
     },
     "execution_count": 8,
     "metadata": {},
     "output_type": "execute_result"
    }
   ],
   "source": [
    "df.head()"
   ]
  },
  {
   "cell_type": "markdown",
   "id": "b9abbdb1-3dae-4a00-be1d-c82d1da1ab87",
   "metadata": {},
   "source": [
    "## 3. работа с пропусками и дублями"
   ]
  },
  {
   "cell_type": "code",
   "execution_count": 11,
   "id": "aaaa9242-3247-4b89-8954-2b3a28162308",
   "metadata": {},
   "outputs": [
    {
     "name": "stdout",
     "output_type": "stream",
     "text": [
      "company     112593\n",
      "agent        16340\n",
      "country        488\n",
      "children         4\n",
      "dtype: int64\n"
     ]
    }
   ],
   "source": [
    "#колво пропусков\n",
    "missing = df.isnull().sum().sort_values(ascending=False)\n",
    "print(missing[missing > 0])"
   ]
  },
  {
   "cell_type": "code",
   "execution_count": 13,
   "id": "4001b8b8-f90b-4ecf-bec9-1b3877ca4066",
   "metadata": {},
   "outputs": [
    {
     "data": {
      "text/html": [
       "<div>\n",
       "<style scoped>\n",
       "    .dataframe tbody tr th:only-of-type {\n",
       "        vertical-align: middle;\n",
       "    }\n",
       "\n",
       "    .dataframe tbody tr th {\n",
       "        vertical-align: top;\n",
       "    }\n",
       "\n",
       "    .dataframe thead th {\n",
       "        text-align: right;\n",
       "    }\n",
       "</style>\n",
       "<table border=\"1\" class=\"dataframe\">\n",
       "  <thead>\n",
       "    <tr style=\"text-align: right;\">\n",
       "      <th></th>\n",
       "      <th>Missing_Percent</th>\n",
       "      <th>Missing_Count</th>\n",
       "    </tr>\n",
       "  </thead>\n",
       "  <tbody>\n",
       "    <tr>\n",
       "      <th>company</th>\n",
       "      <td>94.30689</td>\n",
       "      <td>112593</td>\n",
       "    </tr>\n",
       "    <tr>\n",
       "      <th>agent</th>\n",
       "      <td>13.68624</td>\n",
       "      <td>16340</td>\n",
       "    </tr>\n",
       "    <tr>\n",
       "      <th>country</th>\n",
       "      <td>0.40874</td>\n",
       "      <td>488</td>\n",
       "    </tr>\n",
       "    <tr>\n",
       "      <th>children</th>\n",
       "      <td>0.00335</td>\n",
       "      <td>4</td>\n",
       "    </tr>\n",
       "  </tbody>\n",
       "</table>\n",
       "</div>"
      ],
      "text/plain": [
       "          Missing_Percent  Missing_Count\n",
       "company          94.30689         112593\n",
       "agent            13.68624          16340\n",
       "country           0.40874            488\n",
       "children          0.00335              4"
      ]
     },
     "execution_count": 13,
     "metadata": {},
     "output_type": "execute_result"
    }
   ],
   "source": [
    "#процент пропусков\n",
    "missing_summary = df.isna().mean().mul(100).round(5).to_frame('Missing_Percent')\n",
    "missing_summary = missing_summary[missing_summary.Missing_Percent > 0]\n",
    "missing_summary['Missing_Count'] = df.isna().sum()\n",
    "missing_summary = missing_summary.sort_values('Missing_Percent', ascending=False)\n",
    "missing_summary"
   ]
  },
  {
   "cell_type": "code",
   "execution_count": 15,
   "id": "c5e7fdfb-4169-4865-bd76-8a3bca70100d",
   "metadata": {},
   "outputs": [
    {
     "data": {
      "text/plain": [
       "180"
      ]
     },
     "execution_count": 15,
     "metadata": {},
     "output_type": "execute_result"
    }
   ],
   "source": [
    "# записи без гостей\n",
    "no_guests = df[(df['adults'] + df['children'] + df['babies']) == 0]\n",
    "no_guests.shape[0]"
   ]
  },
  {
   "cell_type": "code",
   "execution_count": 17,
   "id": "f9a01ee3-1325-416d-979b-63478e720c82",
   "metadata": {},
   "outputs": [],
   "source": [
    "#удаляем записи без гостей\n",
    "df = df[(df['adults'] + df['children'] + df['babies']) > 0]"
   ]
  },
  {
   "cell_type": "code",
   "execution_count": 19,
   "id": "40fae43e-f954-41d8-875b-494eea1e2b0d",
   "metadata": {},
   "outputs": [
    {
     "name": "stdout",
     "output_type": "stream",
     "text": [
      "company    112438\n",
      "agent       16278\n",
      "country       478\n",
      "dtype: int64\n"
     ]
    }
   ],
   "source": [
    "#проверка пропусков\n",
    "missing1 = df.isnull().sum().sort_values(ascending=False)\n",
    "print(missing1[missing1 > 0])"
   ]
  },
  {
   "cell_type": "code",
   "execution_count": 21,
   "id": "62cbc20e-4831-4d9f-afc1-f30cadf46330",
   "metadata": {},
   "outputs": [],
   "source": [
    "#пропуски стран заменяем, чтобы не терять остальные данные\n",
    "df['country'] = df['country'].fillna('Unknown')"
   ]
  },
  {
   "cell_type": "code",
   "execution_count": 23,
   "id": "c854a39e-0975-4333-aca8-5d0675da77e7",
   "metadata": {},
   "outputs": [
    {
     "name": "stdout",
     "output_type": "stream",
     "text": [
      "company    112438\n",
      "agent       16278\n",
      "dtype: int64\n"
     ]
    }
   ],
   "source": [
    "#проверка пропусков\n",
    "missing2 = df.isnull().sum().sort_values(ascending=False)\n",
    "print(missing2[missing2 > 0])"
   ]
  },
  {
   "cell_type": "code",
   "execution_count": 25,
   "id": "7a9987ba-262a-4bea-a3a5-1d67999323ea",
   "metadata": {},
   "outputs": [],
   "source": [
    "#заменяем пропуски в агентах на 0 и перевеодим в инт\n",
    "missing_agent = df['agent'].isna().sum()\n",
    "missing_agent\n",
    "df['agent'] = df['agent'].fillna(0).astype(int)"
   ]
  },
  {
   "cell_type": "code",
   "execution_count": 27,
   "id": "8cf0193f-1ec1-4d21-acfb-62ed286984df",
   "metadata": {},
   "outputs": [],
   "source": [
    "#компании удаляем, процент пропуска слишком высок, набор данных в колонке не играет критичной ценности\n",
    "df = df.drop(columns=['company'])"
   ]
  },
  {
   "cell_type": "code",
   "execution_count": 29,
   "id": "394855e9-f1c5-4f45-90cf-0b8ced42082d",
   "metadata": {
    "scrolled": true
   },
   "outputs": [
    {
     "name": "stdout",
     "output_type": "stream",
     "text": [
      "<class 'pandas.core.frame.DataFrame'>\n",
      "Index: 119206 entries, 0 to 119389\n",
      "Data columns (total 31 columns):\n",
      " #   Column                          Non-Null Count   Dtype  \n",
      "---  ------                          --------------   -----  \n",
      " 0   hotel                           119206 non-null  object \n",
      " 1   is_canceled                     119206 non-null  int64  \n",
      " 2   lead_time                       119206 non-null  int64  \n",
      " 3   arrival_date_year               119206 non-null  int64  \n",
      " 4   arrival_date_month              119206 non-null  object \n",
      " 5   arrival_date_week_number        119206 non-null  int64  \n",
      " 6   arrival_date_day_of_month       119206 non-null  int64  \n",
      " 7   stays_in_weekend_nights         119206 non-null  int64  \n",
      " 8   stays_in_week_nights            119206 non-null  int64  \n",
      " 9   adults                          119206 non-null  int64  \n",
      " 10  children                        119206 non-null  float64\n",
      " 11  babies                          119206 non-null  int64  \n",
      " 12  meal                            119206 non-null  object \n",
      " 13  country                         119206 non-null  object \n",
      " 14  market_segment                  119206 non-null  object \n",
      " 15  distribution_channel            119206 non-null  object \n",
      " 16  is_repeated_guest               119206 non-null  int64  \n",
      " 17  previous_cancellations          119206 non-null  int64  \n",
      " 18  previous_bookings_not_canceled  119206 non-null  int64  \n",
      " 19  reserved_room_type              119206 non-null  object \n",
      " 20  assigned_room_type              119206 non-null  object \n",
      " 21  booking_changes                 119206 non-null  int64  \n",
      " 22  deposit_type                    119206 non-null  object \n",
      " 23  agent                           119206 non-null  int32  \n",
      " 24  days_in_waiting_list            119206 non-null  int64  \n",
      " 25  customer_type                   119206 non-null  object \n",
      " 26  adr                             119206 non-null  float64\n",
      " 27  required_car_parking_spaces     119206 non-null  int64  \n",
      " 28  total_of_special_requests       119206 non-null  int64  \n",
      " 29  reservation_status              119206 non-null  object \n",
      " 30  reservation_status_date         119206 non-null  object \n",
      "dtypes: float64(2), int32(1), int64(16), object(12)\n",
      "memory usage: 28.6+ MB\n"
     ]
    }
   ],
   "source": [
    "df.info()"
   ]
  },
  {
   "cell_type": "code",
   "execution_count": 31,
   "id": "8f59c5b9-acf2-43ab-bbfe-769b4c0c35a3",
   "metadata": {},
   "outputs": [],
   "source": [
    "df['children'] = df['children'].astype(int)"
   ]
  },
  {
   "cell_type": "code",
   "execution_count": 33,
   "id": "86149820-30e5-4bfe-b6c5-dabaec89c4a9",
   "metadata": {},
   "outputs": [
    {
     "data": {
      "text/plain": [
       "1169"
      ]
     },
     "execution_count": 33,
     "metadata": {},
     "output_type": "execute_result"
    }
   ],
   "source": [
    "#заменяем undefined на sc (из описания известно, что это одно и то же)\n",
    "undefined_count = (df['meal'] == 'Undefined').sum()\n",
    "undefined_count"
   ]
  },
  {
   "cell_type": "code",
   "execution_count": 35,
   "id": "205920ee-b485-4c44-ac92-ec5b73890219",
   "metadata": {},
   "outputs": [],
   "source": [
    "df['meal'] = df['meal'].replace('Undefined', 'SC')"
   ]
  },
  {
   "cell_type": "code",
   "execution_count": 37,
   "id": "24305744-a7ba-4a9d-9fb7-cd7e1f3e8b73",
   "metadata": {},
   "outputs": [
    {
     "data": {
      "text/plain": [
       "(0, 1)"
      ]
     },
     "execution_count": 37,
     "metadata": {},
     "output_type": "execute_result"
    }
   ],
   "source": [
    "undefined_market_segment = (df['market_segment'] == 'Undefined').sum()\n",
    "undefined_distribution_channel = (df['distribution_channel'] == 'Undefined').sum()\n",
    "\n",
    "undefined_market_segment, undefined_distribution_channel"
   ]
  },
  {
   "cell_type": "code",
   "execution_count": 39,
   "id": "ce27f842-9ba7-4e6e-bf1b-1d556b2a3c50",
   "metadata": {},
   "outputs": [
    {
     "data": {
      "text/plain": [
       "31987"
      ]
     },
     "execution_count": 39,
     "metadata": {},
     "output_type": "execute_result"
    }
   ],
   "source": [
    "#дубли\n",
    "duplicates_count = df.duplicated().sum()\n",
    "duplicates_count"
   ]
  },
  {
   "cell_type": "code",
   "execution_count": 41,
   "id": "7b0e9cce-9570-4210-a434-da8e3c6bac48",
   "metadata": {},
   "outputs": [],
   "source": [
    "#удаляем дубли\n",
    "df = df.drop_duplicates()"
   ]
  },
  {
   "cell_type": "code",
   "execution_count": 43,
   "id": "96ff6a44-6fbf-44fa-baf4-323ea2e21df6",
   "metadata": {},
   "outputs": [
    {
     "name": "stdout",
     "output_type": "stream",
     "text": [
      "<class 'pandas.core.frame.DataFrame'>\n",
      "Index: 87219 entries, 0 to 119389\n",
      "Data columns (total 31 columns):\n",
      " #   Column                          Non-Null Count  Dtype  \n",
      "---  ------                          --------------  -----  \n",
      " 0   hotel                           87219 non-null  object \n",
      " 1   is_canceled                     87219 non-null  int64  \n",
      " 2   lead_time                       87219 non-null  int64  \n",
      " 3   arrival_date_year               87219 non-null  int64  \n",
      " 4   arrival_date_month              87219 non-null  object \n",
      " 5   arrival_date_week_number        87219 non-null  int64  \n",
      " 6   arrival_date_day_of_month       87219 non-null  int64  \n",
      " 7   stays_in_weekend_nights         87219 non-null  int64  \n",
      " 8   stays_in_week_nights            87219 non-null  int64  \n",
      " 9   adults                          87219 non-null  int64  \n",
      " 10  children                        87219 non-null  int32  \n",
      " 11  babies                          87219 non-null  int64  \n",
      " 12  meal                            87219 non-null  object \n",
      " 13  country                         87219 non-null  object \n",
      " 14  market_segment                  87219 non-null  object \n",
      " 15  distribution_channel            87219 non-null  object \n",
      " 16  is_repeated_guest               87219 non-null  int64  \n",
      " 17  previous_cancellations          87219 non-null  int64  \n",
      " 18  previous_bookings_not_canceled  87219 non-null  int64  \n",
      " 19  reserved_room_type              87219 non-null  object \n",
      " 20  assigned_room_type              87219 non-null  object \n",
      " 21  booking_changes                 87219 non-null  int64  \n",
      " 22  deposit_type                    87219 non-null  object \n",
      " 23  agent                           87219 non-null  int32  \n",
      " 24  days_in_waiting_list            87219 non-null  int64  \n",
      " 25  customer_type                   87219 non-null  object \n",
      " 26  adr                             87219 non-null  float64\n",
      " 27  required_car_parking_spaces     87219 non-null  int64  \n",
      " 28  total_of_special_requests       87219 non-null  int64  \n",
      " 29  reservation_status              87219 non-null  object \n",
      " 30  reservation_status_date         87219 non-null  object \n",
      "dtypes: float64(1), int32(2), int64(16), object(12)\n",
      "memory usage: 20.6+ MB\n"
     ]
    }
   ],
   "source": [
    "df.info()"
   ]
  },
  {
   "cell_type": "markdown",
   "id": "dd71e388-abde-4a9a-802f-56e1e9bbe757",
   "metadata": {},
   "source": [
    "## 4. работа с типами данных"
   ]
  },
  {
   "cell_type": "markdown",
   "id": "26a9c2f7-95be-484d-aecb-9441f86f2cef",
   "metadata": {},
   "source": [
    "### 4.1. перевод категорий в формат даты для полей с датой"
   ]
  },
  {
   "cell_type": "code",
   "execution_count": 47,
   "id": "db87a494-6647-4578-9159-d393a73ec22b",
   "metadata": {},
   "outputs": [
    {
     "data": {
      "text/plain": [
       "array(['July', 'August', 'September', 'October', 'November', 'December',\n",
       "       'January', 'February', 'March', 'April', 'May', 'June'],\n",
       "      dtype=object)"
      ]
     },
     "execution_count": 47,
     "metadata": {},
     "output_type": "execute_result"
    }
   ],
   "source": [
    "df['arrival_date_month'].unique()"
   ]
  },
  {
   "cell_type": "code",
   "execution_count": 49,
   "id": "a6186364-bfb8-49f5-b1a4-b6e21ac06b03",
   "metadata": {},
   "outputs": [
    {
     "data": {
      "text/plain": [
       "0"
      ]
     },
     "execution_count": 49,
     "metadata": {},
     "output_type": "execute_result"
    }
   ],
   "source": [
    "df['arrival_date_month'].isna().sum()"
   ]
  },
  {
   "cell_type": "code",
   "execution_count": 51,
   "id": "5fbd814c-dead-4b4e-9987-7a89ad3d2f31",
   "metadata": {},
   "outputs": [
    {
     "name": "stdout",
     "output_type": "stream",
     "text": [
      "{'January': 1, 'February': 2, 'March': 3, 'April': 4, 'May': 5, 'June': 6, 'July': 7, 'August': 8, 'September': 9, 'October': 10, 'November': 11, 'December': 12}\n"
     ]
    }
   ],
   "source": [
    "month_str_to_int = {\n",
    "    'January': 1, 'February': 2, 'March': 3,\n",
    "    'April': 4, 'May': 5, 'June': 6,\n",
    "    'July': 7, 'August': 8, 'September': 9,\n",
    "    'October': 10, 'November': 11, 'December': 12\n",
    "}\n",
    "print(month_str_to_int)"
   ]
  },
  {
   "cell_type": "code",
   "execution_count": 53,
   "id": "09a3b2db-c471-4858-9f8b-592a32064a66",
   "metadata": {},
   "outputs": [],
   "source": [
    "df['arrival_date_month_int'] = df['arrival_date_month'].map(month_str_to_int)\n",
    "\n",
    "df['arrival_date'] = pd.to_datetime({\n",
    "    'year': df['arrival_date_year'],\n",
    "    'month': df['arrival_date_month_int'],\n",
    "    'day': df['arrival_date_day_of_month']\n",
    "})"
   ]
  },
  {
   "cell_type": "code",
   "execution_count": 55,
   "id": "8223b9a7-367d-4f1b-8af6-daf76fc66d23",
   "metadata": {},
   "outputs": [],
   "source": [
    "df = df.drop(columns=['arrival_date_week_number'])"
   ]
  },
  {
   "cell_type": "code",
   "execution_count": 57,
   "id": "89f081c3-c6c2-474d-8ec0-20e3c77d1347",
   "metadata": {},
   "outputs": [],
   "source": [
    "df['reservation_status_date'] = pd.to_datetime(df['reservation_status_date'])"
   ]
  },
  {
   "cell_type": "code",
   "execution_count": 63,
   "id": "f990ff32-d4fb-4d54-9192-b53c9f2c3389",
   "metadata": {},
   "outputs": [
    {
     "name": "stdout",
     "output_type": "stream",
     "text": [
      "<class 'pandas.core.frame.DataFrame'>\n",
      "Index: 87219 entries, 0 to 119389\n",
      "Data columns (total 28 columns):\n",
      " #   Column                          Non-Null Count  Dtype         \n",
      "---  ------                          --------------  -----         \n",
      " 0   hotel                           87219 non-null  object        \n",
      " 1   is_canceled                     87219 non-null  int64         \n",
      " 2   lead_time                       87219 non-null  int64         \n",
      " 3   stays_in_weekend_nights         87219 non-null  int64         \n",
      " 4   stays_in_week_nights            87219 non-null  int64         \n",
      " 5   adults                          87219 non-null  int64         \n",
      " 6   children                        87219 non-null  int32         \n",
      " 7   babies                          87219 non-null  int64         \n",
      " 8   meal                            87219 non-null  object        \n",
      " 9   country                         87219 non-null  object        \n",
      " 10  market_segment                  87219 non-null  object        \n",
      " 11  distribution_channel            87219 non-null  object        \n",
      " 12  is_repeated_guest               87219 non-null  int64         \n",
      " 13  previous_cancellations          87219 non-null  int64         \n",
      " 14  previous_bookings_not_canceled  87219 non-null  int64         \n",
      " 15  reserved_room_type              87219 non-null  object        \n",
      " 16  assigned_room_type              87219 non-null  object        \n",
      " 17  booking_changes                 87219 non-null  int64         \n",
      " 18  deposit_type                    87219 non-null  object        \n",
      " 19  agent                           87219 non-null  int32         \n",
      " 20  days_in_waiting_list            87219 non-null  int64         \n",
      " 21  customer_type                   87219 non-null  object        \n",
      " 22  adr                             87219 non-null  float64       \n",
      " 23  required_car_parking_spaces     87219 non-null  int64         \n",
      " 24  total_of_special_requests       87219 non-null  int64         \n",
      " 25  reservation_status              87219 non-null  object        \n",
      " 26  reservation_status_date         87219 non-null  datetime64[ns]\n",
      " 27  arrival_date                    87219 non-null  datetime64[ns]\n",
      "dtypes: datetime64[ns](2), float64(1), int32(2), int64(13), object(10)\n",
      "memory usage: 18.6+ MB\n"
     ]
    }
   ],
   "source": [
    "df.info()"
   ]
  },
  {
   "cell_type": "code",
   "execution_count": 61,
   "id": "9eb9bcb5-4633-4f57-95ce-e13274149f69",
   "metadata": {},
   "outputs": [],
   "source": [
    "df = df.drop(columns=[\n",
    "    'arrival_date_year',\n",
    "    'arrival_date_month',\n",
    "    'arrival_date_day_of_month',\n",
    "    'arrival_date_month_int'\n",
    "])"
   ]
  },
  {
   "cell_type": "markdown",
   "id": "83a25b58-fb2c-4463-88a1-a301cc435a51",
   "metadata": {},
   "source": [
    "## 5. создание структуры"
   ]
  },
  {
   "cell_type": "markdown",
   "id": "b13039ea-99d2-484a-98d2-3c03295311d4",
   "metadata": {},
   "source": [
    "### 5.1. подключение к БД и создание таблиц"
   ]
  },
  {
   "cell_type": "code",
   "execution_count": 65,
   "id": "545482da-7b7c-4668-b2ca-e182a96eba70",
   "metadata": {},
   "outputs": [],
   "source": [
    "USER = \"postgres\"\n",
    "PASSWORD = \"123\"\n",
    "HOST = \"localhost\"\n",
    "PORT = 5432\n",
    "DB_NAME = \"final_project\"\n",
    "\n",
    "engine = create_engine(f\"postgresql+psycopg2://{USER}:{PASSWORD}@{HOST}:{PORT}/{DB_NAME}\")\n"
   ]
  },
  {
   "cell_type": "code",
   "execution_count": 83,
   "id": "47d44151-828b-46a7-a3d8-beeffcb80857",
   "metadata": {},
   "outputs": [
    {
     "name": "stdout",
     "output_type": "stream",
     "text": [
      "Таблица countries создана.\n"
     ]
    }
   ],
   "source": [
    "create_countries_sql = \"\"\"\n",
    "CREATE TABLE IF NOT EXISTS countries (\n",
    "    country_id SERIAL PRIMARY KEY,\n",
    "    country_code TEXT UNIQUE NOT NULL,\n",
    "    country_name TEXT\n",
    ");\n",
    "\"\"\"\n",
    "\n",
    "try:\n",
    "    with engine.begin() as conn:\n",
    "        conn.execute(text(create_countries_sql))\n",
    "        print('Таблица countries создана.')\n",
    "except IntegrityError as e:\n",
    "    print('countries: ошибка целостности данных (возможно дубликаты или нарушение связей):', e)\n",
    "except KeyError as e:\n",
    "    print('countries: ошибка структуры DataFrame (отсутствует нужная колонка):', e)\n",
    "except UnicodeError as e:\n",
    "    print('countries: ошибка кодировки текста (неподдерживаемые символы):', e)\n",
    "except Exception as e:\n",
    "    print('countries: неизвестная ошибка при загрузке:', e)"
   ]
  },
  {
   "cell_type": "code",
   "execution_count": 85,
   "id": "7ec03a02-1c74-41bb-98f1-7af6223fb214",
   "metadata": {},
   "outputs": [
    {
     "name": "stdout",
     "output_type": "stream",
     "text": [
      "Таблица booking создана.\n"
     ]
    }
   ],
   "source": [
    "create_booking_sql = \"\"\"\n",
    "CREATE TABLE IF NOT EXISTS booking (\n",
    "    booking_id SERIAL PRIMARY KEY,\n",
    "    arrival_date DATE NOT NULL,\n",
    "    reservation_status TEXT NOT NULL,\n",
    "    reservation_status_date DATE NOT NULL,\n",
    "    lead_time INT NOT NULL,\n",
    "    days_in_waiting_list INT NOT NULL,\n",
    "    stays_in_weekend_nights INT NOT NULL,\n",
    "    stays_in_week_nights INT NOT NULL,\n",
    "    assigned_room_type TEXT NOT NULL,\n",
    "    deposit_type TEXT NOT NULL,\n",
    "    hotel TEXT NOT NULL\n",
    ");\n",
    "\"\"\"\n",
    "\n",
    "try:\n",
    "    with engine.begin() as conn:\n",
    "        conn.execute(text(create_booking_sql))\n",
    "        print('Таблица booking создана.')\n",
    "except IntegrityError as e:\n",
    "    print('booking: ошибка целостности данных (возможно дубликаты или нарушение связей):', e)\n",
    "except KeyError as e:\n",
    "    print('booking: ошибка структуры DataFrame (отсутствует нужная колонка):', e)\n",
    "except UnicodeError as e:\n",
    "    print('booking: ошибка кодировки текста (неподдерживаемые символы):', e)\n",
    "except Exception as e:\n",
    "    print('booking: неизвестная ошибка при загрузке:', e)"
   ]
  },
  {
   "cell_type": "code",
   "execution_count": 87,
   "id": "764a4311-4b9c-4edb-953f-1f6ef9dc0e40",
   "metadata": {},
   "outputs": [
    {
     "name": "stdout",
     "output_type": "stream",
     "text": [
      "Таблица client_behavior создана.\n"
     ]
    }
   ],
   "source": [
    "create_client_behavior_sql = \"\"\"\n",
    "CREATE TABLE IF NOT EXISTS client_behavior (\n",
    "    booking_id INT PRIMARY KEY REFERENCES booking(booking_id),\n",
    "    booking_changes INT NOT NULL,\n",
    "    is_canceled BOOLEAN NOT NULL,\n",
    "    is_repeated_guest BOOLEAN NOT NULL,\n",
    "    previous_cancellations INT NOT NULL,\n",
    "    previous_bookings_not_canceled INT NOT NULL\n",
    ");\n",
    "\"\"\"\n",
    "\n",
    "try:\n",
    "    with engine.begin() as conn:\n",
    "        conn.execute(text(create_client_behavior_sql))\n",
    "        print('Таблица client_behavior создана.')\n",
    "except IntegrityError as e:\n",
    "    print('client_behavior: ошибка целостности данных (возможно дубликаты или нарушение связей):', e)\n",
    "except KeyError as e:\n",
    "    print('client_behavior: ошибка структуры DataFrame (отсутствует нужная колонка):', e)\n",
    "except UnicodeError as e:\n",
    "    print('client_behavior: ошибка кодировки текста (неподдерживаемые символы):', e)\n",
    "except Exception as e:\n",
    "    print('client_behavior: неизвестная ошибка при загрузке:', e)"
   ]
  },
  {
   "cell_type": "code",
   "execution_count": 89,
   "id": "c85bcd1f-86db-4f2f-aaeb-09f2a4fefb6f",
   "metadata": {},
   "outputs": [
    {
     "name": "stdout",
     "output_type": "stream",
     "text": [
      "Таблица client_request создана.\n"
     ]
    }
   ],
   "source": [
    "create_client_request_sql = \"\"\"\n",
    "CREATE TABLE IF NOT EXISTS client_request (\n",
    "    booking_id INT PRIMARY KEY REFERENCES booking(booking_id),\n",
    "    total_of_special_requests INT NOT NULL,\n",
    "    required_car_parking_spaces INT NOT NULL,\n",
    "    reserved_room_type TEXT NOT NULL,\n",
    "    adults INT NOT NULL,\n",
    "    children INT NOT NULL,\n",
    "    babies INT NOT NULL,\n",
    "    meal TEXT NOT NULL\n",
    ");\n",
    "\"\"\"\n",
    "\n",
    "try:\n",
    "    with engine.begin() as conn:\n",
    "        conn.execute(text(create_client_request_sql))\n",
    "        print('Таблица client_request создана.')\n",
    "except IntegrityError as e:\n",
    "    print('client_request: ошибка целостности данных (возможно дубликаты или нарушение связей):', e)\n",
    "except KeyError as e:\n",
    "    print('client_request: ошибка структуры DataFrame (отсутствует нужная колонка):', e)\n",
    "except UnicodeError as e:\n",
    "    print('client_request: ошибка кодировки текста (неподдерживаемые символы):', e)\n",
    "except Exception as e:\n",
    "    print('client_request: неизвестная ошибка при загрузке:', e)"
   ]
  },
  {
   "cell_type": "code",
   "execution_count": 91,
   "id": "c58797cb-77d6-4721-a0f9-ab072cfe5333",
   "metadata": {},
   "outputs": [
    {
     "name": "stdout",
     "output_type": "stream",
     "text": [
      "Таблица marketing_info создана.\n"
     ]
    }
   ],
   "source": [
    "create_marketing_info_sql = \"\"\"\n",
    "CREATE TABLE IF NOT EXISTS marketing_info (\n",
    "    booking_id INT PRIMARY KEY REFERENCES booking(booking_id),\n",
    "    country_id INT REFERENCES countries(country_id),\n",
    "    market_segment TEXT NOT NULL,\n",
    "    distribution_channel TEXT NOT NULL,\n",
    "    agent INT NOT NULL,\n",
    "    customer_type TEXT NOT NULL,\n",
    "    adr NUMERIC NOT NULL\n",
    ");\n",
    "\"\"\"\n",
    "\n",
    "try:\n",
    "    with engine.begin() as conn:\n",
    "        conn.execute(text(create_marketing_info_sql))\n",
    "        print('Таблица marketing_info создана.')\n",
    "except IntegrityError as e:\n",
    "    print('marketing_info: ошибка целостности данных (возможно дубликаты или нарушение связей):', e)\n",
    "except KeyError as e:\n",
    "    print('marketing_info: ошибка структуры DataFrame (отсутствует нужная колонка):', e)\n",
    "except UnicodeError as e:\n",
    "    print('marketing_info: ошибка кодировки текста (неподдерживаемые символы):', e)\n",
    "except Exception as e:\n",
    "    print('marketing_info: неизвестная ошибка при загрузке:', e)"
   ]
  },
  {
   "cell_type": "markdown",
   "id": "a58da60a-2372-4105-86d4-c954d80fdefd",
   "metadata": {},
   "source": [
    "### 5.2. заполнение таблиц"
   ]
  },
  {
   "cell_type": "markdown",
   "id": "52bf1777-da0d-4e45-bd34-f8154378d81b",
   "metadata": {},
   "source": [
    "#### 5.2.1. страны"
   ]
  },
  {
   "cell_type": "code",
   "execution_count": 93,
   "id": "4e72636a-4ef4-439b-9fe8-2b9ee8ae809b",
   "metadata": {},
   "outputs": [
    {
     "name": "stdout",
     "output_type": "stream",
     "text": [
      "Все страны из словаря загружены в таблицу countries.\n"
     ]
    }
   ],
   "source": [
    "# Шаг 1: Полный словарь стран\n",
    "ru_code_name = {\n",
    "    'ABW': 'Аруба', 'AGO': 'Ангола', 'AIA': 'Ангилья', 'ALB': 'Албания', 'AND': 'Андорра',\n",
    "    'ARE': 'ОАЭ', 'ARG': 'Аргентина', 'ARM': 'Армения', 'ASM': 'Американское Самоа',\n",
    "    'ATA': 'Антарктида', 'ATF': 'Французские Южные территории', 'AUS': 'Австралия',\n",
    "    'AUT': 'Австрия', 'AZE': 'Азербайджан', 'BDI': 'Бурунди', 'BEL': 'Бельгия',\n",
    "    'BEN': 'Бенин', 'BFA': 'Буркина-Фасо', 'BGD': 'Бангладеш', 'BGR': 'Болгария',\n",
    "    'BHR': 'Бахрейн', 'BHS': 'Багамские Острова', 'BIH': 'Босния и Герцеговина',\n",
    "    'BLR': 'Беларусь', 'BOL': 'Боливия', 'BRA': 'Бразилия', 'BRB': 'Барбадос',\n",
    "    'BWA': 'Ботсвана', 'CAF': 'ЦАР', 'CHE': 'Швейцария', 'CHL': 'Чили', 'CHN': 'Китай',\n",
    "    'CIV': 'Кот-д’Ивуар', 'CMR': 'Камерун', 'CN': 'Китай', 'COL': 'Колумбия',\n",
    "    'COM': 'Коморы', 'CPV': 'Кабо-Верде', 'CRI': 'Коста-Рика', 'CUB': 'Куба',\n",
    "    'CYM': 'Каймановы острова', 'CYP': 'Кипр', 'CZE': 'Чехия', 'DEU': 'Германия',\n",
    "    'DJI': 'Джибути', 'DMA': 'Доминика', 'DNK': 'Дания', 'DOM': 'Доминикана',\n",
    "    'DZA': 'Алжир', 'ECU': 'Эквадор', 'EGY': 'Египет', 'ESP': 'Испания', 'EST': 'Эстония',\n",
    "    'ETH': 'Эфиопия', 'FIN': 'Финляндия', 'FJI': 'Фиджи', 'FRA': 'Франция',\n",
    "    'FRO': 'Фарерские острова', 'GAB': 'Габон', 'GBR': 'Великобритания',\n",
    "    'GEO': 'Грузия', 'GGY': 'Гернси', 'GHA': 'Гана', 'GIB': 'Гибралтар',\n",
    "    'GLP': 'Гваделупа', 'GNB': 'Гвинея-Бисау', 'GRC': 'Греция', 'GTM': 'Гватемала',\n",
    "    'GUY': 'Гайана', 'HKG': 'Гонконг', 'HND': 'Гондурас', 'HRV': 'Хорватия',\n",
    "    'HUN': 'Венгрия', 'IDN': 'Индонезия', 'IMN': 'Остров Мэн', 'IND': 'Индия',\n",
    "    'IRL': 'Ирландия', 'IRN': 'Иран', 'IRQ': 'Ирак', 'ISL': 'Исландия', 'ISR': 'Израиль',\n",
    "    'ITA': 'Италия', 'JAM': 'Ямайка', 'JEY': 'Джерси', 'JOR': 'Иордания',\n",
    "    'JPN': 'Япония', 'KAZ': 'Казахстан', 'KEN': 'Кения', 'KHM': 'Камбоджа',\n",
    "    'KIR': 'Кирибати', 'KNA': 'Сент-Китс и Невис', 'KOR': 'Южная Корея',\n",
    "    'KWT': 'Кувейт', 'LAO': 'Лаос', 'LBN': 'Ливан', 'LBY': 'Ливия', 'LCA': 'Сент-Люсия',\n",
    "    'LIE': 'Лихтенштейн', 'LKA': 'Шри-Ланка', 'LTU': 'Литва', 'LUX': 'Люксембург',\n",
    "    'LVA': 'Латвия', 'MAC': 'Макао', 'MAR': 'Марокко', 'MCO': 'Монако',\n",
    "    'MDG': 'Мадагаскар', 'MDV': 'Мальдивы', 'MEX': 'Мексика', 'MKD': 'Северная Македония',\n",
    "    'MLI': 'Мали', 'MLT': 'Мальта', 'MMR': 'Мьянма', 'MNE': 'Черногория',\n",
    "    'MOZ': 'Мозамбик', 'MRT': 'Мавритания', 'MUS': 'Маврикий', 'MWI': 'Малави',\n",
    "    'MYS': 'Малайзия', 'MYT': 'Майотта', 'NAM': 'Намибия', 'NCL': 'Новая Каледония',\n",
    "    'NGA': 'Нигерия', 'NIC': 'Никарагуа', 'NLD': 'Нидерланды', 'NOR': 'Норвегия',\n",
    "    'NPL': 'Непал', 'NZL': 'Новая Зеландия', 'OMN': 'Оман', 'PAK': 'Пакистан',\n",
    "    'PAN': 'Панама', 'PER': 'Перу', 'PHL': 'Филиппины', 'PLW': 'Палау', 'POL': 'Польша',\n",
    "    'PRI': 'Пуэрто-Рико', 'PRT': 'Португалия', 'PRY': 'Парагвай', 'PYF': 'Французская Полинезия',\n",
    "    'QAT': 'Катар', 'ROU': 'Румыния', 'RUS': 'Россия', 'RWA': 'Руанда', 'SAU': 'Саудовская Аравия',\n",
    "    'SDN': 'Судан', 'SEN': 'Сенегал', 'SGP': 'Сингапур', 'SLE': 'Сьерра-Леоне',\n",
    "    'SLV': 'Сальвадор', 'SMR': 'Сан-Марино', 'SRB': 'Сербия', 'STP': 'Сан-Томе и Принсипи',\n",
    "    'SUR': 'Суринам', 'SVK': 'Словакия', 'SVN': 'Словения', 'SWE': 'Швеция',\n",
    "    'SYC': 'Сейшелы', 'SYR': 'Сирия', 'TGO': 'Того', 'THA': 'Таиланд', 'TJK': 'Таджикистан',\n",
    "    'TMP': 'Восточный Тимор', 'TUN': 'Тунис', 'TUR': 'Турция', 'TWN': 'Тайвань',\n",
    "    'TZA': 'Танзания', 'UGA': 'Уганда', 'UKR': 'Украина', 'UMI': 'Внешние малые острова США',\n",
    "    'URY': 'Уругвай', 'USA': 'США', 'UZB': 'Узбекистан', 'Unknown': 'Неизвестно',\n",
    "    'VEN': 'Венесуэла', 'VGB': 'Британские Виргинские острова', 'VNM': 'Вьетнам',\n",
    "    'ZAF': 'ЮАР', 'ZMB': 'Замбия', 'ZWE': 'Зимбабве'\n",
    "}\n",
    "\n",
    "# Шаг 2: Создаём DataFrame\n",
    "countries_df = pd.DataFrame([\n",
    "    {'country_code': code, 'country_name': name}\n",
    "    for code, name in ru_code_name.items()\n",
    "])\n",
    "\n",
    "# Шаг 3: Загрузка\n",
    "try:\n",
    "    countries_df.to_sql('countries', engine, if_exists='append', index=False)\n",
    "    print('Все страны из словаря загружены в таблицу countries.')\n",
    "except IntegrityError as e:\n",
    "    print('countries: ошибка целостности данных (возможно дубликаты или нарушение связей):', e)\n",
    "except KeyError as e:\n",
    "    print('countries: ошибка структуры DataFrame (отсутствует нужная колонка):', e)\n",
    "except UnicodeError as e:\n",
    "    print('countries: ошибка кодировки текста (неподдерживаемые символы):', e)\n",
    "except Exception as e:\n",
    "    print('countries: неизвестная ошибка при загрузке:', e)"
   ]
  },
  {
   "cell_type": "markdown",
   "id": "2627dd3c-e5e4-4c78-a919-b959dba4308b",
   "metadata": {},
   "source": [
    "#### 5.2.2. букинг"
   ]
  },
  {
   "cell_type": "code",
   "execution_count": 95,
   "id": "ce76158d-f3dc-433a-9dac-c2160def0e54",
   "metadata": {},
   "outputs": [
    {
     "name": "stdout",
     "output_type": "stream",
     "text": [
      "booking: данные успешно загружены в таблицу\n"
     ]
    }
   ],
   "source": [
    "# Шаг 1: Создаём DataFrame\n",
    "booking_df = df[[\n",
    "    'arrival_date',\n",
    "    'reservation_status',\n",
    "    'reservation_status_date',\n",
    "    'lead_time',\n",
    "    'days_in_waiting_list',\n",
    "    'stays_in_weekend_nights',\n",
    "    'stays_in_week_nights',\n",
    "    'assigned_room_type',\n",
    "    'deposit_type',\n",
    "    'hotel'\n",
    "]].copy()\n",
    "\n",
    "# Шаг 2: Загрузка\n",
    "try:\n",
    "    booking_df.to_sql('booking', engine, if_exists='append', index=False)\n",
    "    print('booking: данные успешно загружены в таблицу')\n",
    "except IntegrityError as e:\n",
    "    print('booking: ошибка целостности данных (возможно дубликаты или нарушение связей):', e)\n",
    "except KeyError as e:\n",
    "    print('booking: ошибка структуры DataFrame (отсутствует нужная колонка):', e)\n",
    "except UnicodeError as e:\n",
    "    print('booking: ошибка кодировки текста (неподдерживаемые символы):', e)\n",
    "except Exception as e:\n",
    "    print('booking: неизвестная ошибка при загрузке:', e)"
   ]
  },
  {
   "cell_type": "markdown",
   "id": "e0a3e2a3-56f4-48c6-a29c-2952a8a69990",
   "metadata": {},
   "source": [
    "#### 5.2.3. поведение"
   ]
  },
  {
   "cell_type": "code",
   "execution_count": 97,
   "id": "7bf5717f-b289-4875-b3ce-03e810e480cf",
   "metadata": {},
   "outputs": [
    {
     "name": "stdout",
     "output_type": "stream",
     "text": [
      "booking_id: данные успешно получены из базы\n",
      "client_behavior: данные успешно загружены в таблицу\n"
     ]
    }
   ],
   "source": [
    "# Шаг 1: Получаем booking_id из базы\n",
    "try:\n",
    "    with engine.begin() as conn:\n",
    "        booking_ids = pd.read_sql(\"SELECT booking_id FROM booking ORDER BY booking_id\", conn)\n",
    "    print('booking_id: данные успешно получены из базы')\n",
    "except IntegrityError as e:\n",
    "    print('booking_id: ошибка целостности данных при SELECT:', e)\n",
    "except KeyError as e:\n",
    "    print('booking_id: ошибка структуры при SELECT:', e)\n",
    "except UnicodeError as e:\n",
    "    print('booking_id: ошибка кодировки при SELECT:', e)\n",
    "except Exception as e:\n",
    "    print('booking_id: неизвестная ошибка при получении данных:', e)\n",
    "\n",
    "# Шаг 2: Присваиваем обратно к df\n",
    "try:\n",
    "    df = df.reset_index(drop=True)\n",
    "    df['booking_id'] = booking_ids['booking_id'].values\n",
    "    print('booking_id: успешно присвоен обратно к df')\n",
    "except IntegrityError as e:\n",
    "    print('booking_id: ошибка целостности данных при присвоении:', e)\n",
    "except KeyError as e:\n",
    "    print('booking_id: ошибка структуры при присвоении:', e)\n",
    "except UnicodeError as e:\n",
    "    print('booking_id: ошибка кодировки:', e)\n",
    "except ValueError as e:\n",
    "    print('booking_id: несоответствие длины между df и booking_ids:', e)\n",
    "except Exception as e:\n",
    "    print('booking_id: неизвестная ошибка при присвоении:', e)\n",
    "\n",
    "# Шаг 3: Собираем таблицу\n",
    "client_behavior_df = df[[\n",
    "    'booking_id',\n",
    "    'booking_changes',\n",
    "    'is_canceled',\n",
    "    'is_repeated_guest',\n",
    "    'previous_cancellations',\n",
    "    'previous_bookings_not_canceled'\n",
    "]].copy()\n",
    "\n",
    "client_behavior_df['is_canceled'] = client_behavior_df['is_canceled'].astype(bool)\n",
    "client_behavior_df['is_repeated_guest'] = client_behavior_df['is_repeated_guest'].astype(bool)\n",
    "\n",
    "# Шаг 4: Загрузка\n",
    "try:\n",
    "    client_behavior_df.to_sql('client_behavior', engine, if_exists='append', index=False)\n",
    "    print('client_behavior: данные успешно загружены в таблицу')\n",
    "except IntegrityError as e:\n",
    "    print('client_behavior: ошибка целостности данных (возможно дубликаты или нарушение связей):', e)\n",
    "except KeyError as e:\n",
    "    print('client_behavior: ошибка структуры DataFrame (отсутствует нужная колонка):', e)\n",
    "except UnicodeError as e:\n",
    "    print('client_behavior: ошибка кодировки текста (неподдерживаемые символы):', e)\n",
    "except Exception as e:\n",
    "    print('client_behavior: неизвестная ошибка при загрузке:', e)"
   ]
  },
  {
   "cell_type": "markdown",
   "id": "780185c5-a72b-46fb-a926-a511b5426ea9",
   "metadata": {},
   "source": [
    "#### 5.2.4. запросы"
   ]
  },
  {
   "cell_type": "code",
   "execution_count": 99,
   "id": "fc1b6131-aec5-4d09-a205-6e0106bc3731",
   "metadata": {},
   "outputs": [
    {
     "name": "stdout",
     "output_type": "stream",
     "text": [
      "client_request: данные успешно загружены в таблицу\n"
     ]
    }
   ],
   "source": [
    "# Шаг 1: Собираем таблицу\n",
    "client_request_df = df[[\n",
    "    'booking_id',\n",
    "    'total_of_special_requests',\n",
    "    'required_car_parking_spaces',\n",
    "    'reserved_room_type',\n",
    "    'adults',\n",
    "    'children',\n",
    "    'babies',\n",
    "    'meal'\n",
    "]].copy()\n",
    "\n",
    "# Шаг 2: Загрузка\n",
    "try:\n",
    "    client_request_df.to_sql('client_request', engine, if_exists='append', index=False)\n",
    "    print('client_request: данные успешно загружены в таблицу')\n",
    "except IntegrityError as e:\n",
    "    print('client_request: ошибка целостности данных (возможно дубликаты или нарушение связей):', e)\n",
    "except KeyError as e:\n",
    "    print('client_request: ошибка структуры DataFrame (отсутствует нужная колонка):', e)\n",
    "except UnicodeError as e:\n",
    "    print('client_request: ошибка кодировки текста (неподдерживаемые символы):', e)\n",
    "except Exception as e:\n",
    "    print('client_request: неизвестная ошибка при загрузке:', e)"
   ]
  },
  {
   "cell_type": "markdown",
   "id": "a9e79989-059e-4df0-9b13-974afa3ae356",
   "metadata": {},
   "source": [
    "#### 5.2.5. маркетинг"
   ]
  },
  {
   "cell_type": "code",
   "execution_count": 101,
   "id": "21336567-5cb1-4c19-8e55-98ae4f6cddb2",
   "metadata": {},
   "outputs": [
    {
     "name": "stdout",
     "output_type": "stream",
     "text": [
      "marketing_info: справочник стран успешно получен из базы\n",
      "marketing_info: данные успешно загружены в таблицу\n"
     ]
    }
   ],
   "source": [
    "# Шаг 1: Получаем справочник стран (code → id)\n",
    "try:\n",
    "    with engine.begin() as conn:\n",
    "        countries_df = pd.read_sql(\"SELECT country_id, country_code FROM countries\", conn)\n",
    "    print('marketing_info: справочник стран успешно получен из базы')\n",
    "except IntegrityError as e:\n",
    "    print('marketing_info: ошибка целостности данных при SELECT из countries:', e)\n",
    "except KeyError as e:\n",
    "    print('marketing_info: ошибка структуры при SELECT из countries:', e)\n",
    "except UnicodeError as e:\n",
    "    print('marketing_info: ошибка кодировки при SELECT из countries:', e)\n",
    "except Exception as e:\n",
    "    print('marketing_info: неизвестная ошибка при получении справочника стран:', e)\n",
    "\n",
    "# Шаг 2: Присоединяем country_id к df\n",
    "df = df.merge(countries_df, how='left', left_on='country', right_on='country_code')\n",
    "\n",
    "# Шаг 3: Собираем таблицу\n",
    "marketing_info_df = df[[\n",
    "    'booking_id',\n",
    "    'country_id',\n",
    "    'market_segment',\n",
    "    'distribution_channel',\n",
    "    'agent',\n",
    "    'customer_type',\n",
    "    'adr'\n",
    "]].copy()\n",
    "\n",
    "# Шаг 4: Загрузка\n",
    "try:\n",
    "    marketing_info_df.to_sql('marketing_info', engine, if_exists='append', index=False)\n",
    "    print('marketing_info: данные успешно загружены в таблицу')\n",
    "except IntegrityError as e:\n",
    "    print('marketing_info: ошибка целостности данных (возможно дубликаты или нарушение связей):', e)\n",
    "except KeyError as e:\n",
    "    print('marketing_info: ошибка структуры DataFrame (отсутствует нужная колонка):', e)\n",
    "except UnicodeError as e:\n",
    "    print('marketing_info: ошибка кодировки текста (неподдерживаемые символы):', e)\n",
    "except Exception as e:\n",
    "    print('marketing_info: неизвестная ошибка при загрузке:', e)"
   ]
  },
  {
   "cell_type": "code",
   "execution_count": null,
   "id": "46e3fe3a-d69b-4f09-b5c2-f71963da0bc3",
   "metadata": {},
   "outputs": [],
   "source": []
  }
 ],
 "metadata": {
  "kernelspec": {
   "display_name": "Python 3 (ipykernel)",
   "language": "python",
   "name": "python3"
  },
  "language_info": {
   "codemirror_mode": {
    "name": "ipython",
    "version": 3
   },
   "file_extension": ".py",
   "mimetype": "text/x-python",
   "name": "python",
   "nbconvert_exporter": "python",
   "pygments_lexer": "ipython3",
   "version": "3.12.7"
  }
 },
 "nbformat": 4,
 "nbformat_minor": 5
}
